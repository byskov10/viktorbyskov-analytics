{
 "cells": [
  {
   "cell_type": "code",
   "execution_count": 2,
   "metadata": {},
   "outputs": [
    {
     "name": "stdout",
     "output_type": "stream",
     "text": [
      "Data retrieved successfully.\n"
     ]
    }
   ],
   "source": [
    "import pandas as pd\n",
    "from sqlalchemy import create_engine\n",
    "import creds\n",
    "\n",
    "# The provided URL for the PostgreSQL database access\n",
    "database_url = creds.url\n",
    "\n",
    "# Set up a connection to the PostgreSQL database\n",
    "engine = create_engine(database_url)\n",
    "\n",
    "# Name of the table you want to retrieve data from\n",
    "table_name = 'Transformed_WebAnalytics'\n",
    "\n",
    "# Retrieve the dataset from the PostgreSQL table\n",
    "df_retrieved = pd.read_sql_table(table_name, engine)\n",
    "\n",
    "print(\"Data retrieved successfully.\")\n",
    "\n",
    "# Now you can work with the df_retrieved DataFrame\n",
    "# For example, to print the first few rows of the DataFrame:\n",
    "df_retrieved.to_csv('download_data.csv', index=False)\n"
   ]
  },
  {
   "cell_type": "code",
   "execution_count": null,
   "metadata": {},
   "outputs": [],
   "source": []
  }
 ],
 "metadata": {
  "kernelspec": {
   "display_name": "venv",
   "language": "python",
   "name": "python3"
  },
  "language_info": {
   "codemirror_mode": {
    "name": "ipython",
    "version": 3
   },
   "file_extension": ".py",
   "mimetype": "text/x-python",
   "name": "python",
   "nbconvert_exporter": "python",
   "pygments_lexer": "ipython3",
   "version": "3.9.12"
  }
 },
 "nbformat": 4,
 "nbformat_minor": 2
}
