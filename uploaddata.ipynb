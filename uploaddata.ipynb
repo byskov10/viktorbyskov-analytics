{
 "cells": [
  {
   "cell_type": "code",
   "execution_count": 20,
   "metadata": {},
   "outputs": [],
   "source": [
    "import os\n",
    "from google.cloud import bigquery\n",
    "os.environ['GOOGLE_APPLICATION_CREDENTIALS'] = \"analytics-399003-e59dddbd35b5.json\"\n",
    "client = bigquery.Client()"
   ]
  },
  {
   "cell_type": "code",
   "execution_count": 21,
   "metadata": {},
   "outputs": [],
   "source": [
    "# Setup job_config\n",
    "job_config = bigquery.LoadJobConfig(\n",
    "    schema=[\n",
    "        # Define your schema here, for example:\n",
    "        bigquery.SchemaField(\"Date\", \"STRING\"),\n",
    "        bigquery.SchemaField(\"Event_Timestamp\", \"STRING\"),\n",
    "        bigquery.SchemaField(\"Event_Name\", \"STRING\"),\n",
    "        bigquery.SchemaField(\"Event_Bundle_Sequence_Id\", \"STRING\"),\n",
    "        bigquery.SchemaField(\"User_Pseudo_Id\", \"STRING\"),\n",
    "        bigquery.SchemaField(\"User_First_Touch_Timestamp\", \"STRING\"),\n",
    "        bigquery.SchemaField(\"Stream_Id\", \"STRING\"),\n",
    "        bigquery.SchemaField(\"Platform\", \"STRING\"),\n",
    "        bigquery.SchemaField(\"Event_Params_Page_Title\", \"STRING\"),\n",
    "        bigquery.SchemaField(\"Event_Params_Ga_Session_Id\", \"STRING\"),\n",
    "        bigquery.SchemaField(\"Event_Params_Page_Location\", \"STRING\"),\n",
    "        bigquery.SchemaField(\"Event_Params_Session_Engaged\", \"STRING\"),\n",
    "        bigquery.SchemaField(\"Event_Params_Engagement_Time_Msec\", \"INTEGER\"),\n",
    "        bigquery.SchemaField(\"Event_Params_Ga_Session_Number\", \"STRING\"),\n",
    "        bigquery.SchemaField(\"Event_Params_Engaged_Session_Event\", \"STRING\")\n",
    "    ],\n",
    "    source_format=bigquery.SourceFormat.CSV,\n",
    "    skip_leading_rows=1,  # Number of skip lines. Skip the header in our case.\n",
    "    # Set the write disposition to truncate the table if it already exists\n",
    "    write_disposition=\"WRITE_TRUNCATE\",\n",
    ")"
   ]
  },
  {
   "cell_type": "code",
   "execution_count": 34,
   "metadata": {},
   "outputs": [],
   "source": [
    "date = \"20230918\"\n",
    "dataset = f\"events__{date}\"\n",
    "table_id = f\"analytics-399003.WebAnalytics.{dataset}\"\n",
    "# Specify the file path, replace 'path-to-your-file.csv' with your file's path\n",
    "filename = f'cleaned_events_{date}.csv'"
   ]
  },
  {
   "cell_type": "code",
   "execution_count": 35,
   "metadata": {},
   "outputs": [
    {
     "name": "stdout",
     "output_type": "stream",
     "text": [
      "Loaded 10 rows to analytics-399003.WebAnalytics.events__20230918\n"
     ]
    }
   ],
   "source": [
    "# Load data from CSV file into the BigQuery table\n",
    "with open(filename, \"rb\") as source_file:\n",
    "    job = client.load_table_from_file(\n",
    "        source_file, \n",
    "        table_id, \n",
    "        job_config=job_config\n",
    "    )  # API request\n",
    "\n",
    "# Wait for the load job to complete.\n",
    "job.result()\n",
    "print(f\"Loaded {job.output_rows} rows to {table_id}\")"
   ]
  },
  {
   "cell_type": "code",
   "execution_count": null,
   "metadata": {},
   "outputs": [],
   "source": []
  }
 ],
 "metadata": {
  "kernelspec": {
   "display_name": "venv",
   "language": "python",
   "name": "python3"
  },
  "language_info": {
   "codemirror_mode": {
    "name": "ipython",
    "version": 3
   },
   "file_extension": ".py",
   "mimetype": "text/x-python",
   "name": "python",
   "nbconvert_exporter": "python",
   "pygments_lexer": "ipython3",
   "version": "3.9.12"
  },
  "orig_nbformat": 4
 },
 "nbformat": 4,
 "nbformat_minor": 2
}
