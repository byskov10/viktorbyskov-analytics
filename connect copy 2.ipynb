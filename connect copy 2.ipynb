{
 "cells": [
  {
   "cell_type": "code",
   "execution_count": 5,
   "metadata": {},
   "outputs": [],
   "source": [
    "import os\n",
    "from google.cloud import bigquery"
   ]
  },
  {
   "cell_type": "code",
   "execution_count": 7,
   "metadata": {},
   "outputs": [],
   "source": [
    "import os\n",
    "os.environ[\"GOOGLE_APPLICATION_CREDENTIALS\"] = \"/Users/viktorbyskov/Desktop/viktorbyskov-analytics/analytics-399003-32aaa8bcb33a.json\""
   ]
  },
  {
   "cell_type": "code",
   "execution_count": 8,
   "metadata": {},
   "outputs": [],
   "source": [
    "client = bigquery.Client()"
   ]
  },
  {
   "cell_type": "code",
   "execution_count": 9,
   "metadata": {},
   "outputs": [],
   "source": [
    "sql_query = \"\"\"SELECT * FROM `analytics-399003.analytics_406290682.events_20230918` LIMIT 3\"\"\""
   ]
  },
  {
   "cell_type": "code",
   "execution_count": 10,
   "metadata": {},
   "outputs": [],
   "source": [
    "job = client.query(sql_query)"
   ]
  },
  {
   "cell_type": "code",
   "execution_count": 11,
   "metadata": {},
   "outputs": [
    {
     "name": "stdout",
     "output_type": "stream",
     "text": [
      "Row(('20230918', 1695048275080431, 'sec20_timer', [{'key': 'page_title', 'value': {'string_value': 'Viktor Byskov - Viktor Byskov', 'int_value': None, 'float_value': None, 'double_value': None}}, {'key': 'ga_session_id', 'value': {'string_value': None, 'int_value': 1695048254, 'float_value': None, 'double_value': None}}, {'key': 'page_location', 'value': {'string_value': 'https://viktorbyskov.dk/', 'int_value': None, 'float_value': None, 'double_value': None}}, {'key': 'session_engaged', 'value': {'string_value': '1', 'int_value': None, 'float_value': None, 'double_value': None}}, {'key': 'engagement_time_msec', 'value': {'string_value': None, 'int_value': 1591, 'float_value': None, 'double_value': None}}, {'key': 'ga_session_number', 'value': {'string_value': None, 'int_value': 1, 'float_value': None, 'double_value': None}}, {'key': 'engaged_session_event', 'value': {'string_value': None, 'int_value': 1, 'float_value': None, 'double_value': None}}], None, None, 777008367, None, None, '877881965.1695048255', {'analytics_storage': None, 'ads_storage': None, 'uses_transient_token': 'No'}, [], 1695048255149401, {'revenue': 0.0, 'currency': 'USD'}, {'category': 'desktop', 'mobile_brand_name': 'Apple', 'mobile_model_name': 'Safari', 'mobile_marketing_name': None, 'mobile_os_hardware_model': None, 'operating_system': 'Macintosh', 'operating_system_version': 'Macintosh Intel 12.5', 'vendor_id': None, 'advertising_id': None, 'language': 'da-dk', 'is_limited_ad_tracking': 'No', 'time_zone_offset_seconds': None, 'browser': None, 'browser_version': None, 'web_info': {'browser': 'Chrome', 'browser_version': '116.0.5845.187', 'hostname': 'viktorbyskov.dk'}}, {'city': 'Fredericia', 'country': 'Denmark', 'continent': 'Europe', 'region': 'Region of Southern Denmark', 'sub_continent': 'Northern Europe', 'metro': '(not set)'}, None, {'name': '(direct)', 'medium': '(none)', 'source': '(direct)'}, '6092560544', 'WEB', None, None, [], None, True), {'event_date': 0, 'event_timestamp': 1, 'event_name': 2, 'event_params': 3, 'event_previous_timestamp': 4, 'event_value_in_usd': 5, 'event_bundle_sequence_id': 6, 'event_server_timestamp_offset': 7, 'user_id': 8, 'user_pseudo_id': 9, 'privacy_info': 10, 'user_properties': 11, 'user_first_touch_timestamp': 12, 'user_ltv': 13, 'device': 14, 'geo': 15, 'app_info': 16, 'traffic_source': 17, 'stream_id': 18, 'platform': 19, 'event_dimensions': 20, 'ecommerce': 21, 'items': 22, 'collected_traffic_source': 23, 'is_active_user': 24})\n",
      "Row(('20230918', 1695048280488871, 'scroll_90', [{'key': 'engaged_session_event', 'value': {'string_value': None, 'int_value': 1, 'float_value': None, 'double_value': None}}, {'key': 'ga_session_number', 'value': {'string_value': None, 'int_value': 1, 'float_value': None, 'double_value': None}}, {'key': 'ga_session_id', 'value': {'string_value': None, 'int_value': 1695048254, 'float_value': None, 'double_value': None}}, {'key': 'page_title', 'value': {'string_value': 'Viktor Byskov - Viktor Byskov', 'int_value': None, 'float_value': None, 'double_value': None}}, {'key': 'engagement_time_msec', 'value': {'string_value': None, 'int_value': 1467, 'float_value': None, 'double_value': None}}, {'key': 'page_location', 'value': {'string_value': 'https://viktorbyskov.dk/', 'int_value': None, 'float_value': None, 'double_value': None}}, {'key': 'scroll_depth', 'value': {'string_value': None, 'int_value': 90, 'float_value': None, 'double_value': None}}, {'key': 'session_engaged', 'value': {'string_value': '1', 'int_value': None, 'float_value': None, 'double_value': None}}], None, None, 782416807, None, None, '877881965.1695048255', {'analytics_storage': None, 'ads_storage': None, 'uses_transient_token': 'No'}, [], 1695048255149401, {'revenue': 0.0, 'currency': 'USD'}, {'category': 'desktop', 'mobile_brand_name': 'Apple', 'mobile_model_name': 'Safari', 'mobile_marketing_name': None, 'mobile_os_hardware_model': None, 'operating_system': 'Macintosh', 'operating_system_version': 'Macintosh Intel 12.5', 'vendor_id': None, 'advertising_id': None, 'language': 'da-dk', 'is_limited_ad_tracking': 'No', 'time_zone_offset_seconds': None, 'browser': None, 'browser_version': None, 'web_info': {'browser': 'Chrome', 'browser_version': '116.0.5845.187', 'hostname': 'viktorbyskov.dk'}}, {'city': 'Fredericia', 'country': 'Denmark', 'continent': 'Europe', 'region': 'Region of Southern Denmark', 'sub_continent': 'Northern Europe', 'metro': '(not set)'}, None, {'name': '(direct)', 'medium': '(none)', 'source': '(direct)'}, '6092560544', 'WEB', None, None, [], None, True), {'event_date': 0, 'event_timestamp': 1, 'event_name': 2, 'event_params': 3, 'event_previous_timestamp': 4, 'event_value_in_usd': 5, 'event_bundle_sequence_id': 6, 'event_server_timestamp_offset': 7, 'user_id': 8, 'user_pseudo_id': 9, 'privacy_info': 10, 'user_properties': 11, 'user_first_touch_timestamp': 12, 'user_ltv': 13, 'device': 14, 'geo': 15, 'app_info': 16, 'traffic_source': 17, 'stream_id': 18, 'platform': 19, 'event_dimensions': 20, 'ecommerce': 21, 'items': 22, 'collected_traffic_source': 23, 'is_active_user': 24})\n",
      "Row(('20230918', 1695048255149401, 'first_visit', [{'key': 'ga_session_number', 'value': {'string_value': None, 'int_value': 1, 'float_value': None, 'double_value': None}}, {'key': 'ga_session_id', 'value': {'string_value': None, 'int_value': 1695048254, 'float_value': None, 'double_value': None}}, {'key': 'page_location', 'value': {'string_value': 'https://viktorbyskov.dk/', 'int_value': None, 'float_value': None, 'double_value': None}}, {'key': 'page_title', 'value': {'string_value': 'Viktor Byskov - Viktor Byskov', 'int_value': None, 'float_value': None, 'double_value': None}}, {'key': 'engaged_session_event', 'value': {'string_value': None, 'int_value': 1, 'float_value': None, 'double_value': None}}], None, None, 757077337, None, None, '877881965.1695048255', {'analytics_storage': None, 'ads_storage': None, 'uses_transient_token': 'No'}, [], 1695048255149401, {'revenue': 0.0, 'currency': 'USD'}, {'category': 'desktop', 'mobile_brand_name': 'Apple', 'mobile_model_name': 'Safari', 'mobile_marketing_name': None, 'mobile_os_hardware_model': None, 'operating_system': 'Macintosh', 'operating_system_version': 'Macintosh Intel 12.5', 'vendor_id': None, 'advertising_id': None, 'language': 'da-dk', 'is_limited_ad_tracking': 'No', 'time_zone_offset_seconds': None, 'browser': None, 'browser_version': None, 'web_info': {'browser': 'Chrome', 'browser_version': '116.0.5845.187', 'hostname': 'viktorbyskov.dk'}}, {'city': 'Fredericia', 'country': 'Denmark', 'continent': 'Europe', 'region': 'Region of Southern Denmark', 'sub_continent': 'Northern Europe', 'metro': '(not set)'}, None, {'name': '(direct)', 'medium': '(none)', 'source': '(direct)'}, '6092560544', 'WEB', None, None, [], None, True), {'event_date': 0, 'event_timestamp': 1, 'event_name': 2, 'event_params': 3, 'event_previous_timestamp': 4, 'event_value_in_usd': 5, 'event_bundle_sequence_id': 6, 'event_server_timestamp_offset': 7, 'user_id': 8, 'user_pseudo_id': 9, 'privacy_info': 10, 'user_properties': 11, 'user_first_touch_timestamp': 12, 'user_ltv': 13, 'device': 14, 'geo': 15, 'app_info': 16, 'traffic_source': 17, 'stream_id': 18, 'platform': 19, 'event_dimensions': 20, 'ecommerce': 21, 'items': 22, 'collected_traffic_source': 23, 'is_active_user': 24})\n"
     ]
    }
   ],
   "source": [
    "for row in job.result():\n",
    "    print(row)"
   ]
  },
  {
   "cell_type": "code",
   "execution_count": 12,
   "metadata": {},
   "outputs": [
    {
     "name": "stdout",
     "output_type": "stream",
     "text": [
      "SELECT * FROM `analytics-399003.analytics_406290682.events_20230918` LIMIT 1000\n"
     ]
    }
   ],
   "source": [
    "job = client.get_job('bquxjob_72bb18f5_18ab14e942e') # Job ID inserted based on the query results selected to explore\n",
    "print(job.query)"
   ]
  },
  {
   "cell_type": "markdown",
   "metadata": {},
   "source": [
    "#START"
   ]
  },
  {
   "cell_type": "code",
   "execution_count": 78,
   "metadata": {},
   "outputs": [],
   "source": [
    "dataset = \"analytics_406290682\"\n",
    "tablename = \"events_20231015\"\n",
    "\n",
    "sql = f\"\"\"\n",
    "SELECT * \n",
    "FROM `analytics-399003.{dataset}.{tablename}`\n",
    "LIMIT 1000\n",
    "\"\"\""
   ]
  },
  {
   "cell_type": "code",
   "execution_count": 79,
   "metadata": {},
   "outputs": [],
   "source": [
    "results = client.query(sql).to_dataframe()"
   ]
  },
  {
   "cell_type": "code",
   "execution_count": 80,
   "metadata": {},
   "outputs": [
    {
     "data": {
      "text/html": [
       "<div>\n",
       "<style scoped>\n",
       "    .dataframe tbody tr th:only-of-type {\n",
       "        vertical-align: middle;\n",
       "    }\n",
       "\n",
       "    .dataframe tbody tr th {\n",
       "        vertical-align: top;\n",
       "    }\n",
       "\n",
       "    .dataframe thead th {\n",
       "        text-align: right;\n",
       "    }\n",
       "</style>\n",
       "<table border=\"1\" class=\"dataframe\">\n",
       "  <thead>\n",
       "    <tr style=\"text-align: right;\">\n",
       "      <th></th>\n",
       "      <th>event_date</th>\n",
       "      <th>event_timestamp</th>\n",
       "      <th>event_name</th>\n",
       "      <th>event_params</th>\n",
       "      <th>event_previous_timestamp</th>\n",
       "      <th>event_value_in_usd</th>\n",
       "      <th>event_bundle_sequence_id</th>\n",
       "      <th>event_server_timestamp_offset</th>\n",
       "      <th>user_id</th>\n",
       "      <th>user_pseudo_id</th>\n",
       "      <th>...</th>\n",
       "      <th>geo</th>\n",
       "      <th>app_info</th>\n",
       "      <th>traffic_source</th>\n",
       "      <th>stream_id</th>\n",
       "      <th>platform</th>\n",
       "      <th>event_dimensions</th>\n",
       "      <th>ecommerce</th>\n",
       "      <th>items</th>\n",
       "      <th>collected_traffic_source</th>\n",
       "      <th>is_active_user</th>\n",
       "    </tr>\n",
       "  </thead>\n",
       "  <tbody>\n",
       "    <tr>\n",
       "      <th>0</th>\n",
       "      <td>20231015</td>\n",
       "      <td>1697391846522118</td>\n",
       "      <td>user_engagement</td>\n",
       "      <td>[{'key': 'engagement_time_msec', 'value': {'st...</td>\n",
       "      <td>&lt;NA&gt;</td>\n",
       "      <td>NaN</td>\n",
       "      <td>-703693562</td>\n",
       "      <td>&lt;NA&gt;</td>\n",
       "      <td>None</td>\n",
       "      <td>1605386937.1697391840</td>\n",
       "      <td>...</td>\n",
       "      <td>{'city': '', 'country': 'China', 'continent': ...</td>\n",
       "      <td>None</td>\n",
       "      <td>{'name': '(direct)', 'medium': '(none)', 'sour...</td>\n",
       "      <td>6092560544</td>\n",
       "      <td>WEB</td>\n",
       "      <td>None</td>\n",
       "      <td>None</td>\n",
       "      <td>[]</td>\n",
       "      <td>None</td>\n",
       "      <td>True</td>\n",
       "    </tr>\n",
       "    <tr>\n",
       "      <th>1</th>\n",
       "      <td>20231015</td>\n",
       "      <td>1697391839699516</td>\n",
       "      <td>first_visit</td>\n",
       "      <td>[{'key': 'ga_session_id', 'value': {'string_va...</td>\n",
       "      <td>&lt;NA&gt;</td>\n",
       "      <td>NaN</td>\n",
       "      <td>-710516164</td>\n",
       "      <td>&lt;NA&gt;</td>\n",
       "      <td>None</td>\n",
       "      <td>1605386937.1697391840</td>\n",
       "      <td>...</td>\n",
       "      <td>{'city': '', 'country': 'China', 'continent': ...</td>\n",
       "      <td>None</td>\n",
       "      <td>{'name': '(direct)', 'medium': '(none)', 'sour...</td>\n",
       "      <td>6092560544</td>\n",
       "      <td>WEB</td>\n",
       "      <td>None</td>\n",
       "      <td>None</td>\n",
       "      <td>[]</td>\n",
       "      <td>None</td>\n",
       "      <td>True</td>\n",
       "    </tr>\n",
       "    <tr>\n",
       "      <th>2</th>\n",
       "      <td>20231015</td>\n",
       "      <td>1697391839699516</td>\n",
       "      <td>session_start</td>\n",
       "      <td>[{'key': 'ga_session_id', 'value': {'string_va...</td>\n",
       "      <td>&lt;NA&gt;</td>\n",
       "      <td>NaN</td>\n",
       "      <td>-710516164</td>\n",
       "      <td>&lt;NA&gt;</td>\n",
       "      <td>None</td>\n",
       "      <td>1605386937.1697391840</td>\n",
       "      <td>...</td>\n",
       "      <td>{'city': '', 'country': 'China', 'continent': ...</td>\n",
       "      <td>None</td>\n",
       "      <td>{'name': '(direct)', 'medium': '(none)', 'sour...</td>\n",
       "      <td>6092560544</td>\n",
       "      <td>WEB</td>\n",
       "      <td>None</td>\n",
       "      <td>None</td>\n",
       "      <td>[]</td>\n",
       "      <td>None</td>\n",
       "      <td>True</td>\n",
       "    </tr>\n",
       "    <tr>\n",
       "      <th>3</th>\n",
       "      <td>20231015</td>\n",
       "      <td>1697391839699516</td>\n",
       "      <td>page_view</td>\n",
       "      <td>[{'key': 'entrances', 'value': {'string_value'...</td>\n",
       "      <td>&lt;NA&gt;</td>\n",
       "      <td>NaN</td>\n",
       "      <td>-710516164</td>\n",
       "      <td>&lt;NA&gt;</td>\n",
       "      <td>None</td>\n",
       "      <td>1605386937.1697391840</td>\n",
       "      <td>...</td>\n",
       "      <td>{'city': '', 'country': 'China', 'continent': ...</td>\n",
       "      <td>None</td>\n",
       "      <td>{'name': '(direct)', 'medium': '(none)', 'sour...</td>\n",
       "      <td>6092560544</td>\n",
       "      <td>WEB</td>\n",
       "      <td>None</td>\n",
       "      <td>None</td>\n",
       "      <td>[]</td>\n",
       "      <td>None</td>\n",
       "      <td>True</td>\n",
       "    </tr>\n",
       "    <tr>\n",
       "      <th>4</th>\n",
       "      <td>20231015</td>\n",
       "      <td>1697391844709189</td>\n",
       "      <td>experiment_impression</td>\n",
       "      <td>[{'key': 'ga_session_id', 'value': {'string_va...</td>\n",
       "      <td>&lt;NA&gt;</td>\n",
       "      <td>NaN</td>\n",
       "      <td>-705506491</td>\n",
       "      <td>&lt;NA&gt;</td>\n",
       "      <td>None</td>\n",
       "      <td>1605386937.1697391840</td>\n",
       "      <td>...</td>\n",
       "      <td>{'city': '', 'country': 'China', 'continent': ...</td>\n",
       "      <td>None</td>\n",
       "      <td>{'name': '(direct)', 'medium': '(none)', 'sour...</td>\n",
       "      <td>6092560544</td>\n",
       "      <td>WEB</td>\n",
       "      <td>None</td>\n",
       "      <td>None</td>\n",
       "      <td>[]</td>\n",
       "      <td>None</td>\n",
       "      <td>True</td>\n",
       "    </tr>\n",
       "  </tbody>\n",
       "</table>\n",
       "<p>5 rows × 25 columns</p>\n",
       "</div>"
      ],
      "text/plain": [
       "  event_date   event_timestamp             event_name  \\\n",
       "0   20231015  1697391846522118        user_engagement   \n",
       "1   20231015  1697391839699516            first_visit   \n",
       "2   20231015  1697391839699516          session_start   \n",
       "3   20231015  1697391839699516              page_view   \n",
       "4   20231015  1697391844709189  experiment_impression   \n",
       "\n",
       "                                        event_params  \\\n",
       "0  [{'key': 'engagement_time_msec', 'value': {'st...   \n",
       "1  [{'key': 'ga_session_id', 'value': {'string_va...   \n",
       "2  [{'key': 'ga_session_id', 'value': {'string_va...   \n",
       "3  [{'key': 'entrances', 'value': {'string_value'...   \n",
       "4  [{'key': 'ga_session_id', 'value': {'string_va...   \n",
       "\n",
       "   event_previous_timestamp  event_value_in_usd  event_bundle_sequence_id  \\\n",
       "0                      <NA>                 NaN                -703693562   \n",
       "1                      <NA>                 NaN                -710516164   \n",
       "2                      <NA>                 NaN                -710516164   \n",
       "3                      <NA>                 NaN                -710516164   \n",
       "4                      <NA>                 NaN                -705506491   \n",
       "\n",
       "   event_server_timestamp_offset user_id         user_pseudo_id  ...  \\\n",
       "0                           <NA>    None  1605386937.1697391840  ...   \n",
       "1                           <NA>    None  1605386937.1697391840  ...   \n",
       "2                           <NA>    None  1605386937.1697391840  ...   \n",
       "3                           <NA>    None  1605386937.1697391840  ...   \n",
       "4                           <NA>    None  1605386937.1697391840  ...   \n",
       "\n",
       "                                                 geo app_info  \\\n",
       "0  {'city': '', 'country': 'China', 'continent': ...     None   \n",
       "1  {'city': '', 'country': 'China', 'continent': ...     None   \n",
       "2  {'city': '', 'country': 'China', 'continent': ...     None   \n",
       "3  {'city': '', 'country': 'China', 'continent': ...     None   \n",
       "4  {'city': '', 'country': 'China', 'continent': ...     None   \n",
       "\n",
       "                                      traffic_source   stream_id platform  \\\n",
       "0  {'name': '(direct)', 'medium': '(none)', 'sour...  6092560544      WEB   \n",
       "1  {'name': '(direct)', 'medium': '(none)', 'sour...  6092560544      WEB   \n",
       "2  {'name': '(direct)', 'medium': '(none)', 'sour...  6092560544      WEB   \n",
       "3  {'name': '(direct)', 'medium': '(none)', 'sour...  6092560544      WEB   \n",
       "4  {'name': '(direct)', 'medium': '(none)', 'sour...  6092560544      WEB   \n",
       "\n",
       "  event_dimensions ecommerce items collected_traffic_source is_active_user  \n",
       "0             None      None    []                     None           True  \n",
       "1             None      None    []                     None           True  \n",
       "2             None      None    []                     None           True  \n",
       "3             None      None    []                     None           True  \n",
       "4             None      None    []                     None           True  \n",
       "\n",
       "[5 rows x 25 columns]"
      ]
     },
     "execution_count": 80,
     "metadata": {},
     "output_type": "execute_result"
    }
   ],
   "source": [
    "results.head()"
   ]
  },
  {
   "cell_type": "code",
   "execution_count": 81,
   "metadata": {},
   "outputs": [],
   "source": [
    "columns_to_use = ['event_date', 'event_timestamp', 'event_name', 'event_params',\n",
    "       'event_bundle_sequence_id',\n",
    "       'user_pseudo_id',\n",
    "       'user_first_touch_timestamp', 'device', 'geo',\n",
    "       'traffic_source', 'stream_id', 'platform']"
   ]
  },
  {
   "cell_type": "code",
   "execution_count": 82,
   "metadata": {},
   "outputs": [],
   "source": [
    "df = results.copy()"
   ]
  },
  {
   "cell_type": "code",
   "execution_count": 83,
   "metadata": {},
   "outputs": [],
   "source": [
    "df = df[columns_to_use]"
   ]
  },
  {
   "cell_type": "code",
   "execution_count": 84,
   "metadata": {},
   "outputs": [
    {
     "data": {
      "text/html": [
       "<div>\n",
       "<style scoped>\n",
       "    .dataframe tbody tr th:only-of-type {\n",
       "        vertical-align: middle;\n",
       "    }\n",
       "\n",
       "    .dataframe tbody tr th {\n",
       "        vertical-align: top;\n",
       "    }\n",
       "\n",
       "    .dataframe thead th {\n",
       "        text-align: right;\n",
       "    }\n",
       "</style>\n",
       "<table border=\"1\" class=\"dataframe\">\n",
       "  <thead>\n",
       "    <tr style=\"text-align: right;\">\n",
       "      <th></th>\n",
       "      <th>event_date</th>\n",
       "      <th>event_timestamp</th>\n",
       "      <th>event_name</th>\n",
       "      <th>event_params</th>\n",
       "      <th>event_bundle_sequence_id</th>\n",
       "      <th>user_pseudo_id</th>\n",
       "      <th>user_first_touch_timestamp</th>\n",
       "      <th>device</th>\n",
       "      <th>geo</th>\n",
       "      <th>traffic_source</th>\n",
       "      <th>stream_id</th>\n",
       "      <th>platform</th>\n",
       "    </tr>\n",
       "  </thead>\n",
       "  <tbody>\n",
       "    <tr>\n",
       "      <th>0</th>\n",
       "      <td>20231015</td>\n",
       "      <td>1697391846522118</td>\n",
       "      <td>user_engagement</td>\n",
       "      <td>[{'key': 'engagement_time_msec', 'value': {'st...</td>\n",
       "      <td>-703693562</td>\n",
       "      <td>1605386937.1697391840</td>\n",
       "      <td>1697391839699516</td>\n",
       "      <td>{'category': 'desktop', 'mobile_brand_name': '...</td>\n",
       "      <td>{'city': '', 'country': 'China', 'continent': ...</td>\n",
       "      <td>{'name': '(direct)', 'medium': '(none)', 'sour...</td>\n",
       "      <td>6092560544</td>\n",
       "      <td>WEB</td>\n",
       "    </tr>\n",
       "  </tbody>\n",
       "</table>\n",
       "</div>"
      ],
      "text/plain": [
       "  event_date   event_timestamp       event_name  \\\n",
       "0   20231015  1697391846522118  user_engagement   \n",
       "\n",
       "                                        event_params  \\\n",
       "0  [{'key': 'engagement_time_msec', 'value': {'st...   \n",
       "\n",
       "   event_bundle_sequence_id         user_pseudo_id  \\\n",
       "0                -703693562  1605386937.1697391840   \n",
       "\n",
       "   user_first_touch_timestamp  \\\n",
       "0            1697391839699516   \n",
       "\n",
       "                                              device  \\\n",
       "0  {'category': 'desktop', 'mobile_brand_name': '...   \n",
       "\n",
       "                                                 geo  \\\n",
       "0  {'city': '', 'country': 'China', 'continent': ...   \n",
       "\n",
       "                                      traffic_source   stream_id platform  \n",
       "0  {'name': '(direct)', 'medium': '(none)', 'sour...  6092560544      WEB  "
      ]
     },
     "execution_count": 84,
     "metadata": {},
     "output_type": "execute_result"
    }
   ],
   "source": [
    "df_1 = df.copy()\n",
    "df_1.head(1)"
   ]
  },
  {
   "cell_type": "code",
   "execution_count": 85,
   "metadata": {},
   "outputs": [],
   "source": [
    "e = \"event_params_\"\n",
    "df[e + \"page_title\"] = None\n",
    "df[e + \"ga_session_id\"] = None\n",
    "df[e + \"page_location\"] = None\n",
    "df[e + \"session_engaged\"] = None\n",
    "df[e + \"engagement_time_msec\"] = None\n",
    "df[e + \"ga_session_number\"] = None\n",
    "df[e + \"engaged_session_event\"] = None\n",
    "\n",
    "for index, row in df.iterrows():\n",
    "    eventparams = row[\"event_params\"]\n",
    "    for param in eventparams:\n",
    "        if param['key'] == 'page_title':\n",
    "            df.at[index, \"event_params_page_title\"] = param['value']['string_value']\n",
    "\n",
    "        elif param['key'] == 'ga_session_id':\n",
    "            df.at[index, \"event_params_ga_session_id\"] = param['value']['int_value']\n",
    "\n",
    "        elif param['key'] == 'page_location':\n",
    "            df.at[index, \"event_params_page_location\"] = param['value']['string_value']\n",
    "\n",
    "        elif param['key'] == 'session_engaged':\n",
    "            df.at[index, \"event_params_session_engaged\"] = param['value']['string_value']\n",
    "\n",
    "        elif param['key'] == 'engagement_time_msec':\n",
    "            df.at[index, \"event_params_engagement_time_msec\"] = param['value']['int_value']\n",
    "\n",
    "        elif param['key'] == 'ga_session_number':\n",
    "            df.at[index, \"event_params_ga_session_number\"] = param['value']['int_value']\n",
    "\n",
    "        elif param['key'] == 'engaged_session_event':\n",
    "            df.at[index, \"event_params_engaged_session_event\"] = param['value']['int_value']\n",
    "\n",
    "            break"
   ]
  },
  {
   "cell_type": "code",
   "execution_count": 86,
   "metadata": {},
   "outputs": [],
   "source": [
    "df.drop(columns=[\"event_params\", \"device\", \"geo\", \"traffic_source\"], inplace=True)"
   ]
  },
  {
   "cell_type": "code",
   "execution_count": 87,
   "metadata": {},
   "outputs": [
    {
     "data": {
      "text/html": [
       "<div>\n",
       "<style scoped>\n",
       "    .dataframe tbody tr th:only-of-type {\n",
       "        vertical-align: middle;\n",
       "    }\n",
       "\n",
       "    .dataframe tbody tr th {\n",
       "        vertical-align: top;\n",
       "    }\n",
       "\n",
       "    .dataframe thead th {\n",
       "        text-align: right;\n",
       "    }\n",
       "</style>\n",
       "<table border=\"1\" class=\"dataframe\">\n",
       "  <thead>\n",
       "    <tr style=\"text-align: right;\">\n",
       "      <th></th>\n",
       "      <th>event_date</th>\n",
       "      <th>event_timestamp</th>\n",
       "      <th>event_name</th>\n",
       "      <th>event_bundle_sequence_id</th>\n",
       "      <th>user_pseudo_id</th>\n",
       "      <th>user_first_touch_timestamp</th>\n",
       "      <th>stream_id</th>\n",
       "      <th>platform</th>\n",
       "      <th>event_params_page_title</th>\n",
       "      <th>event_params_ga_session_id</th>\n",
       "      <th>event_params_page_location</th>\n",
       "      <th>event_params_session_engaged</th>\n",
       "      <th>event_params_engagement_time_msec</th>\n",
       "      <th>event_params_ga_session_number</th>\n",
       "      <th>event_params_engaged_session_event</th>\n",
       "    </tr>\n",
       "  </thead>\n",
       "  <tbody>\n",
       "    <tr>\n",
       "      <th>0</th>\n",
       "      <td>20231015</td>\n",
       "      <td>1697391846522118</td>\n",
       "      <td>user_engagement</td>\n",
       "      <td>-703693562</td>\n",
       "      <td>1605386937.1697391840</td>\n",
       "      <td>1697391839699516</td>\n",
       "      <td>6092560544</td>\n",
       "      <td>WEB</td>\n",
       "      <td>Viktor Byskov - Viktor Byskov</td>\n",
       "      <td>1697391839</td>\n",
       "      <td>https://viktorbyskov.dk/</td>\n",
       "      <td>0</td>\n",
       "      <td>4392</td>\n",
       "      <td>1</td>\n",
       "      <td>None</td>\n",
       "    </tr>\n",
       "  </tbody>\n",
       "</table>\n",
       "</div>"
      ],
      "text/plain": [
       "  event_date   event_timestamp       event_name  event_bundle_sequence_id  \\\n",
       "0   20231015  1697391846522118  user_engagement                -703693562   \n",
       "\n",
       "          user_pseudo_id  user_first_touch_timestamp   stream_id platform  \\\n",
       "0  1605386937.1697391840            1697391839699516  6092560544      WEB   \n",
       "\n",
       "         event_params_page_title event_params_ga_session_id  \\\n",
       "0  Viktor Byskov - Viktor Byskov                 1697391839   \n",
       "\n",
       "  event_params_page_location event_params_session_engaged  \\\n",
       "0   https://viktorbyskov.dk/                            0   \n",
       "\n",
       "  event_params_engagement_time_msec event_params_ga_session_number  \\\n",
       "0                              4392                              1   \n",
       "\n",
       "  event_params_engaged_session_event  \n",
       "0                               None  "
      ]
     },
     "execution_count": 87,
     "metadata": {},
     "output_type": "execute_result"
    }
   ],
   "source": [
    "df.head(1)"
   ]
  },
  {
   "cell_type": "code",
   "execution_count": 88,
   "metadata": {},
   "outputs": [],
   "source": [
    "df.to_csv(f\"cleaned_{tablename}.csv\", index=False)"
   ]
  },
  {
   "cell_type": "code",
   "execution_count": null,
   "metadata": {},
   "outputs": [],
   "source": []
  }
 ],
 "metadata": {
  "kernelspec": {
   "display_name": "Python 3",
   "language": "python",
   "name": "python3"
  },
  "language_info": {
   "codemirror_mode": {
    "name": "ipython",
    "version": 3
   },
   "file_extension": ".py",
   "mimetype": "text/x-python",
   "name": "python",
   "nbconvert_exporter": "python",
   "pygments_lexer": "ipython3",
   "version": "3.9.12"
  },
  "orig_nbformat": 4
 },
 "nbformat": 4,
 "nbformat_minor": 2
}
