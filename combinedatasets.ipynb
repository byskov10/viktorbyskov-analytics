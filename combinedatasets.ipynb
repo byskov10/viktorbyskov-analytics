{
 "cells": [
  {
   "cell_type": "code",
   "execution_count": 2,
   "metadata": {},
   "outputs": [],
   "source": [
    "import pandas as pd\n",
    "\n",
    "# File paths of your CSV files\n",
    "csv_files = ['cleaned_events_20230914.csv',\n",
    "             'cleaned_events_20230915.csv',\n",
    "             'cleaned_events_20230916.csv',\n",
    "             'cleaned_events_20230917.csv',\n",
    "             'cleaned_events_20230918.csv',\n",
    "             'cleaned_events_20230926.csv',\n",
    "             'cleaned_events_20230929.csv',\n",
    "             'cleaned_events_20231012.csv',\n",
    "             'cleaned_events_20231015.csv',\n",
    "             'cleaned_events_20231017.csv',\n",
    "             'cleaned_events_20231022.csv',\n",
    "             'cleaned_events_20231023.csv',\n",
    "             'cleaned_events_20231031.csv',\n",
    "             'cleaned_events_20231102.csv',\n",
    "             'cleaned_events_20231103.csv']\n",
    "\n",
    "# List to hold DataFrames\n",
    "dataframes = []\n",
    "\n",
    "# Read each CSV file and append to the list\n",
    "for file in csv_files:\n",
    "    df = pd.read_csv(file)\n",
    "    dataframes.append(df)\n",
    "\n",
    "# Concatenate all DataFrames\n",
    "combined_df = pd.concat(dataframes, ignore_index=True)\n",
    "\n",
    "# Save the combined DataFrame to a new CSV file\n",
    "combined_df.to_csv('combined_datasets.csv', index=False)\n"
   ]
  },
  {
   "cell_type": "code",
   "execution_count": null,
   "metadata": {},
   "outputs": [],
   "source": []
  }
 ],
 "metadata": {
  "kernelspec": {
   "display_name": "venv",
   "language": "python",
   "name": "python3"
  },
  "language_info": {
   "codemirror_mode": {
    "name": "ipython",
    "version": 3
   },
   "file_extension": ".py",
   "mimetype": "text/x-python",
   "name": "python",
   "nbconvert_exporter": "python",
   "pygments_lexer": "ipython3",
   "version": "3.9.12"
  }
 },
 "nbformat": 4,
 "nbformat_minor": 2
}
