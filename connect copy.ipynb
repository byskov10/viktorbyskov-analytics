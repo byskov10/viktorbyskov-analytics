{
 "cells": [
  {
   "cell_type": "code",
   "execution_count": 50,
   "metadata": {},
   "outputs": [],
   "source": [
    "import os\n",
    "from google.cloud import bigquery"
   ]
  },
  {
   "cell_type": "code",
   "execution_count": 51,
   "metadata": {},
   "outputs": [],
   "source": [
    "os.environ['GOOGLE_APPLICATION_CREDENTIALS'] = \"analytics-399003-e59dddbd35b5.json\""
   ]
  },
  {
   "cell_type": "code",
   "execution_count": 52,
   "metadata": {},
   "outputs": [],
   "source": [
    "client = bigquery.Client()"
   ]
  },
  {
   "cell_type": "code",
   "execution_count": 53,
   "metadata": {},
   "outputs": [],
   "source": [
    "sql_query = \"\"\"SELECT * FROM `analytics-399003.analytics_406290682.events_20230918` LIMIT 3\"\"\""
   ]
  },
  {
   "cell_type": "code",
   "execution_count": 54,
   "metadata": {},
   "outputs": [],
   "source": [
    "job = client.query(sql_query)"
   ]
  },
  {
   "cell_type": "code",
   "execution_count": 55,
   "metadata": {},
   "outputs": [
    {
     "name": "stdout",
     "output_type": "stream",
     "text": [
      "Row(('20230918', 1695048275080431, 'sec20_timer', [{'key': 'page_title', 'value': {'string_value': 'Viktor Byskov - Viktor Byskov', 'int_value': None, 'float_value': None, 'double_value': None}}, {'key': 'ga_session_id', 'value': {'string_value': None, 'int_value': 1695048254, 'float_value': None, 'double_value': None}}, {'key': 'page_location', 'value': {'string_value': 'https://viktorbyskov.dk/', 'int_value': None, 'float_value': None, 'double_value': None}}, {'key': 'session_engaged', 'value': {'string_value': '1', 'int_value': None, 'float_value': None, 'double_value': None}}, {'key': 'engagement_time_msec', 'value': {'string_value': None, 'int_value': 1591, 'float_value': None, 'double_value': None}}, {'key': 'ga_session_number', 'value': {'string_value': None, 'int_value': 1, 'float_value': None, 'double_value': None}}, {'key': 'engaged_session_event', 'value': {'string_value': None, 'int_value': 1, 'float_value': None, 'double_value': None}}], None, None, 777008367, None, None, '877881965.1695048255', {'analytics_storage': None, 'ads_storage': None, 'uses_transient_token': 'No'}, [], 1695048255149401, {'revenue': 0.0, 'currency': 'USD'}, {'category': 'desktop', 'mobile_brand_name': 'Apple', 'mobile_model_name': 'Safari', 'mobile_marketing_name': None, 'mobile_os_hardware_model': None, 'operating_system': 'Macintosh', 'operating_system_version': 'Macintosh Intel 12.5', 'vendor_id': None, 'advertising_id': None, 'language': 'da-dk', 'is_limited_ad_tracking': 'No', 'time_zone_offset_seconds': None, 'browser': None, 'browser_version': None, 'web_info': {'browser': 'Chrome', 'browser_version': '116.0.5845.187', 'hostname': 'viktorbyskov.dk'}}, {'city': 'Fredericia', 'country': 'Denmark', 'continent': 'Europe', 'region': 'Region of Southern Denmark', 'sub_continent': 'Northern Europe', 'metro': '(not set)'}, None, {'name': '(direct)', 'medium': '(none)', 'source': '(direct)'}, '6092560544', 'WEB', None, None, [], None, True), {'event_date': 0, 'event_timestamp': 1, 'event_name': 2, 'event_params': 3, 'event_previous_timestamp': 4, 'event_value_in_usd': 5, 'event_bundle_sequence_id': 6, 'event_server_timestamp_offset': 7, 'user_id': 8, 'user_pseudo_id': 9, 'privacy_info': 10, 'user_properties': 11, 'user_first_touch_timestamp': 12, 'user_ltv': 13, 'device': 14, 'geo': 15, 'app_info': 16, 'traffic_source': 17, 'stream_id': 18, 'platform': 19, 'event_dimensions': 20, 'ecommerce': 21, 'items': 22, 'collected_traffic_source': 23, 'is_active_user': 24})\n",
      "Row(('20230918', 1695048280488871, 'scroll_90', [{'key': 'engaged_session_event', 'value': {'string_value': None, 'int_value': 1, 'float_value': None, 'double_value': None}}, {'key': 'ga_session_number', 'value': {'string_value': None, 'int_value': 1, 'float_value': None, 'double_value': None}}, {'key': 'ga_session_id', 'value': {'string_value': None, 'int_value': 1695048254, 'float_value': None, 'double_value': None}}, {'key': 'page_title', 'value': {'string_value': 'Viktor Byskov - Viktor Byskov', 'int_value': None, 'float_value': None, 'double_value': None}}, {'key': 'engagement_time_msec', 'value': {'string_value': None, 'int_value': 1467, 'float_value': None, 'double_value': None}}, {'key': 'page_location', 'value': {'string_value': 'https://viktorbyskov.dk/', 'int_value': None, 'float_value': None, 'double_value': None}}, {'key': 'scroll_depth', 'value': {'string_value': None, 'int_value': 90, 'float_value': None, 'double_value': None}}, {'key': 'session_engaged', 'value': {'string_value': '1', 'int_value': None, 'float_value': None, 'double_value': None}}], None, None, 782416807, None, None, '877881965.1695048255', {'analytics_storage': None, 'ads_storage': None, 'uses_transient_token': 'No'}, [], 1695048255149401, {'revenue': 0.0, 'currency': 'USD'}, {'category': 'desktop', 'mobile_brand_name': 'Apple', 'mobile_model_name': 'Safari', 'mobile_marketing_name': None, 'mobile_os_hardware_model': None, 'operating_system': 'Macintosh', 'operating_system_version': 'Macintosh Intel 12.5', 'vendor_id': None, 'advertising_id': None, 'language': 'da-dk', 'is_limited_ad_tracking': 'No', 'time_zone_offset_seconds': None, 'browser': None, 'browser_version': None, 'web_info': {'browser': 'Chrome', 'browser_version': '116.0.5845.187', 'hostname': 'viktorbyskov.dk'}}, {'city': 'Fredericia', 'country': 'Denmark', 'continent': 'Europe', 'region': 'Region of Southern Denmark', 'sub_continent': 'Northern Europe', 'metro': '(not set)'}, None, {'name': '(direct)', 'medium': '(none)', 'source': '(direct)'}, '6092560544', 'WEB', None, None, [], None, True), {'event_date': 0, 'event_timestamp': 1, 'event_name': 2, 'event_params': 3, 'event_previous_timestamp': 4, 'event_value_in_usd': 5, 'event_bundle_sequence_id': 6, 'event_server_timestamp_offset': 7, 'user_id': 8, 'user_pseudo_id': 9, 'privacy_info': 10, 'user_properties': 11, 'user_first_touch_timestamp': 12, 'user_ltv': 13, 'device': 14, 'geo': 15, 'app_info': 16, 'traffic_source': 17, 'stream_id': 18, 'platform': 19, 'event_dimensions': 20, 'ecommerce': 21, 'items': 22, 'collected_traffic_source': 23, 'is_active_user': 24})\n",
      "Row(('20230918', 1695048255149401, 'first_visit', [{'key': 'ga_session_number', 'value': {'string_value': None, 'int_value': 1, 'float_value': None, 'double_value': None}}, {'key': 'ga_session_id', 'value': {'string_value': None, 'int_value': 1695048254, 'float_value': None, 'double_value': None}}, {'key': 'page_location', 'value': {'string_value': 'https://viktorbyskov.dk/', 'int_value': None, 'float_value': None, 'double_value': None}}, {'key': 'page_title', 'value': {'string_value': 'Viktor Byskov - Viktor Byskov', 'int_value': None, 'float_value': None, 'double_value': None}}, {'key': 'engaged_session_event', 'value': {'string_value': None, 'int_value': 1, 'float_value': None, 'double_value': None}}], None, None, 757077337, None, None, '877881965.1695048255', {'analytics_storage': None, 'ads_storage': None, 'uses_transient_token': 'No'}, [], 1695048255149401, {'revenue': 0.0, 'currency': 'USD'}, {'category': 'desktop', 'mobile_brand_name': 'Apple', 'mobile_model_name': 'Safari', 'mobile_marketing_name': None, 'mobile_os_hardware_model': None, 'operating_system': 'Macintosh', 'operating_system_version': 'Macintosh Intel 12.5', 'vendor_id': None, 'advertising_id': None, 'language': 'da-dk', 'is_limited_ad_tracking': 'No', 'time_zone_offset_seconds': None, 'browser': None, 'browser_version': None, 'web_info': {'browser': 'Chrome', 'browser_version': '116.0.5845.187', 'hostname': 'viktorbyskov.dk'}}, {'city': 'Fredericia', 'country': 'Denmark', 'continent': 'Europe', 'region': 'Region of Southern Denmark', 'sub_continent': 'Northern Europe', 'metro': '(not set)'}, None, {'name': '(direct)', 'medium': '(none)', 'source': '(direct)'}, '6092560544', 'WEB', None, None, [], None, True), {'event_date': 0, 'event_timestamp': 1, 'event_name': 2, 'event_params': 3, 'event_previous_timestamp': 4, 'event_value_in_usd': 5, 'event_bundle_sequence_id': 6, 'event_server_timestamp_offset': 7, 'user_id': 8, 'user_pseudo_id': 9, 'privacy_info': 10, 'user_properties': 11, 'user_first_touch_timestamp': 12, 'user_ltv': 13, 'device': 14, 'geo': 15, 'app_info': 16, 'traffic_source': 17, 'stream_id': 18, 'platform': 19, 'event_dimensions': 20, 'ecommerce': 21, 'items': 22, 'collected_traffic_source': 23, 'is_active_user': 24})\n"
     ]
    }
   ],
   "source": [
    "for row in job.result():\n",
    "    print(row)"
   ]
  },
  {
   "cell_type": "code",
   "execution_count": 56,
   "metadata": {},
   "outputs": [
    {
     "name": "stdout",
     "output_type": "stream",
     "text": [
      "SELECT * FROM `analytics-399003.analytics_406290682.events_20230918` LIMIT 1000\n"
     ]
    }
   ],
   "source": [
    "job = client.get_job('bquxjob_72bb18f5_18ab14e942e') # Job ID inserted based on the query results selected to explore\n",
    "print(job.query)"
   ]
  },
  {
   "cell_type": "code",
   "execution_count": 113,
   "metadata": {},
   "outputs": [],
   "source": [
    "dataset = \"analytics_406290682\"\n",
    "tablename = \"events_20230918\"\n",
    "\n",
    "sql = f\"\"\"\n",
    "SELECT * \n",
    "FROM `analytics-399003.{dataset}.{tablename}`\n",
    "LIMIT 1000\n",
    "\"\"\""
   ]
  },
  {
   "cell_type": "code",
   "execution_count": 114,
   "metadata": {},
   "outputs": [],
   "source": [
    "results = client.query(sql).to_dataframe()"
   ]
  },
  {
   "cell_type": "code",
   "execution_count": 115,
   "metadata": {},
   "outputs": [
    {
     "data": {
      "text/html": [
       "<div>\n",
       "<style scoped>\n",
       "    .dataframe tbody tr th:only-of-type {\n",
       "        vertical-align: middle;\n",
       "    }\n",
       "\n",
       "    .dataframe tbody tr th {\n",
       "        vertical-align: top;\n",
       "    }\n",
       "\n",
       "    .dataframe thead th {\n",
       "        text-align: right;\n",
       "    }\n",
       "</style>\n",
       "<table border=\"1\" class=\"dataframe\">\n",
       "  <thead>\n",
       "    <tr style=\"text-align: right;\">\n",
       "      <th></th>\n",
       "      <th>event_date</th>\n",
       "      <th>event_timestamp</th>\n",
       "      <th>event_name</th>\n",
       "      <th>event_params</th>\n",
       "      <th>event_previous_timestamp</th>\n",
       "      <th>event_value_in_usd</th>\n",
       "      <th>event_bundle_sequence_id</th>\n",
       "      <th>event_server_timestamp_offset</th>\n",
       "      <th>user_id</th>\n",
       "      <th>user_pseudo_id</th>\n",
       "      <th>...</th>\n",
       "      <th>geo</th>\n",
       "      <th>app_info</th>\n",
       "      <th>traffic_source</th>\n",
       "      <th>stream_id</th>\n",
       "      <th>platform</th>\n",
       "      <th>event_dimensions</th>\n",
       "      <th>ecommerce</th>\n",
       "      <th>items</th>\n",
       "      <th>collected_traffic_source</th>\n",
       "      <th>is_active_user</th>\n",
       "    </tr>\n",
       "  </thead>\n",
       "  <tbody>\n",
       "    <tr>\n",
       "      <th>0</th>\n",
       "      <td>20230918</td>\n",
       "      <td>1695048275080431</td>\n",
       "      <td>sec20_timer</td>\n",
       "      <td>[{'key': 'page_title', 'value': {'string_value...</td>\n",
       "      <td>&lt;NA&gt;</td>\n",
       "      <td>NaN</td>\n",
       "      <td>777008367</td>\n",
       "      <td>&lt;NA&gt;</td>\n",
       "      <td>None</td>\n",
       "      <td>877881965.1695048255</td>\n",
       "      <td>...</td>\n",
       "      <td>{'city': 'Fredericia', 'country': 'Denmark', '...</td>\n",
       "      <td>None</td>\n",
       "      <td>{'name': '(direct)', 'medium': '(none)', 'sour...</td>\n",
       "      <td>6092560544</td>\n",
       "      <td>WEB</td>\n",
       "      <td>None</td>\n",
       "      <td>None</td>\n",
       "      <td>[]</td>\n",
       "      <td>None</td>\n",
       "      <td>True</td>\n",
       "    </tr>\n",
       "    <tr>\n",
       "      <th>1</th>\n",
       "      <td>20230918</td>\n",
       "      <td>1695048280488871</td>\n",
       "      <td>scroll_90</td>\n",
       "      <td>[{'key': 'engaged_session_event', 'value': {'s...</td>\n",
       "      <td>&lt;NA&gt;</td>\n",
       "      <td>NaN</td>\n",
       "      <td>782416807</td>\n",
       "      <td>&lt;NA&gt;</td>\n",
       "      <td>None</td>\n",
       "      <td>877881965.1695048255</td>\n",
       "      <td>...</td>\n",
       "      <td>{'city': 'Fredericia', 'country': 'Denmark', '...</td>\n",
       "      <td>None</td>\n",
       "      <td>{'name': '(direct)', 'medium': '(none)', 'sour...</td>\n",
       "      <td>6092560544</td>\n",
       "      <td>WEB</td>\n",
       "      <td>None</td>\n",
       "      <td>None</td>\n",
       "      <td>[]</td>\n",
       "      <td>None</td>\n",
       "      <td>True</td>\n",
       "    </tr>\n",
       "    <tr>\n",
       "      <th>2</th>\n",
       "      <td>20230918</td>\n",
       "      <td>1695048255149401</td>\n",
       "      <td>first_visit</td>\n",
       "      <td>[{'key': 'ga_session_number', 'value': {'strin...</td>\n",
       "      <td>&lt;NA&gt;</td>\n",
       "      <td>NaN</td>\n",
       "      <td>757077337</td>\n",
       "      <td>&lt;NA&gt;</td>\n",
       "      <td>None</td>\n",
       "      <td>877881965.1695048255</td>\n",
       "      <td>...</td>\n",
       "      <td>{'city': 'Fredericia', 'country': 'Denmark', '...</td>\n",
       "      <td>None</td>\n",
       "      <td>{'name': '(direct)', 'medium': '(none)', 'sour...</td>\n",
       "      <td>6092560544</td>\n",
       "      <td>WEB</td>\n",
       "      <td>None</td>\n",
       "      <td>None</td>\n",
       "      <td>[]</td>\n",
       "      <td>None</td>\n",
       "      <td>True</td>\n",
       "    </tr>\n",
       "    <tr>\n",
       "      <th>3</th>\n",
       "      <td>20230918</td>\n",
       "      <td>1695048255149401</td>\n",
       "      <td>session_start</td>\n",
       "      <td>[{'key': 'ga_session_id', 'value': {'string_va...</td>\n",
       "      <td>&lt;NA&gt;</td>\n",
       "      <td>NaN</td>\n",
       "      <td>757077337</td>\n",
       "      <td>&lt;NA&gt;</td>\n",
       "      <td>None</td>\n",
       "      <td>877881965.1695048255</td>\n",
       "      <td>...</td>\n",
       "      <td>{'city': 'Fredericia', 'country': 'Denmark', '...</td>\n",
       "      <td>None</td>\n",
       "      <td>{'name': '(direct)', 'medium': '(none)', 'sour...</td>\n",
       "      <td>6092560544</td>\n",
       "      <td>WEB</td>\n",
       "      <td>None</td>\n",
       "      <td>None</td>\n",
       "      <td>[]</td>\n",
       "      <td>None</td>\n",
       "      <td>True</td>\n",
       "    </tr>\n",
       "    <tr>\n",
       "      <th>4</th>\n",
       "      <td>20230918</td>\n",
       "      <td>1695048255149401</td>\n",
       "      <td>page_view</td>\n",
       "      <td>[{'key': 'page_location', 'value': {'string_va...</td>\n",
       "      <td>&lt;NA&gt;</td>\n",
       "      <td>NaN</td>\n",
       "      <td>757077337</td>\n",
       "      <td>&lt;NA&gt;</td>\n",
       "      <td>None</td>\n",
       "      <td>877881965.1695048255</td>\n",
       "      <td>...</td>\n",
       "      <td>{'city': 'Fredericia', 'country': 'Denmark', '...</td>\n",
       "      <td>None</td>\n",
       "      <td>{'name': '(direct)', 'medium': '(none)', 'sour...</td>\n",
       "      <td>6092560544</td>\n",
       "      <td>WEB</td>\n",
       "      <td>None</td>\n",
       "      <td>None</td>\n",
       "      <td>[]</td>\n",
       "      <td>None</td>\n",
       "      <td>True</td>\n",
       "    </tr>\n",
       "  </tbody>\n",
       "</table>\n",
       "<p>5 rows × 25 columns</p>\n",
       "</div>"
      ],
      "text/plain": [
       "  event_date   event_timestamp     event_name  \\\n",
       "0   20230918  1695048275080431    sec20_timer   \n",
       "1   20230918  1695048280488871      scroll_90   \n",
       "2   20230918  1695048255149401    first_visit   \n",
       "3   20230918  1695048255149401  session_start   \n",
       "4   20230918  1695048255149401      page_view   \n",
       "\n",
       "                                        event_params  \\\n",
       "0  [{'key': 'page_title', 'value': {'string_value...   \n",
       "1  [{'key': 'engaged_session_event', 'value': {'s...   \n",
       "2  [{'key': 'ga_session_number', 'value': {'strin...   \n",
       "3  [{'key': 'ga_session_id', 'value': {'string_va...   \n",
       "4  [{'key': 'page_location', 'value': {'string_va...   \n",
       "\n",
       "   event_previous_timestamp  event_value_in_usd  event_bundle_sequence_id  \\\n",
       "0                      <NA>                 NaN                 777008367   \n",
       "1                      <NA>                 NaN                 782416807   \n",
       "2                      <NA>                 NaN                 757077337   \n",
       "3                      <NA>                 NaN                 757077337   \n",
       "4                      <NA>                 NaN                 757077337   \n",
       "\n",
       "   event_server_timestamp_offset user_id        user_pseudo_id  ...  \\\n",
       "0                           <NA>    None  877881965.1695048255  ...   \n",
       "1                           <NA>    None  877881965.1695048255  ...   \n",
       "2                           <NA>    None  877881965.1695048255  ...   \n",
       "3                           <NA>    None  877881965.1695048255  ...   \n",
       "4                           <NA>    None  877881965.1695048255  ...   \n",
       "\n",
       "                                                 geo app_info  \\\n",
       "0  {'city': 'Fredericia', 'country': 'Denmark', '...     None   \n",
       "1  {'city': 'Fredericia', 'country': 'Denmark', '...     None   \n",
       "2  {'city': 'Fredericia', 'country': 'Denmark', '...     None   \n",
       "3  {'city': 'Fredericia', 'country': 'Denmark', '...     None   \n",
       "4  {'city': 'Fredericia', 'country': 'Denmark', '...     None   \n",
       "\n",
       "                                      traffic_source   stream_id platform  \\\n",
       "0  {'name': '(direct)', 'medium': '(none)', 'sour...  6092560544      WEB   \n",
       "1  {'name': '(direct)', 'medium': '(none)', 'sour...  6092560544      WEB   \n",
       "2  {'name': '(direct)', 'medium': '(none)', 'sour...  6092560544      WEB   \n",
       "3  {'name': '(direct)', 'medium': '(none)', 'sour...  6092560544      WEB   \n",
       "4  {'name': '(direct)', 'medium': '(none)', 'sour...  6092560544      WEB   \n",
       "\n",
       "  event_dimensions ecommerce items collected_traffic_source is_active_user  \n",
       "0             None      None    []                     None           True  \n",
       "1             None      None    []                     None           True  \n",
       "2             None      None    []                     None           True  \n",
       "3             None      None    []                     None           True  \n",
       "4             None      None    []                     None           True  \n",
       "\n",
       "[5 rows x 25 columns]"
      ]
     },
     "execution_count": 115,
     "metadata": {},
     "output_type": "execute_result"
    }
   ],
   "source": [
    "results.head()"
   ]
  },
  {
   "cell_type": "code",
   "execution_count": 116,
   "metadata": {},
   "outputs": [],
   "source": [
    "columns_to_use = ['event_date', 'event_timestamp', 'event_name', 'event_params',\n",
    "       'event_bundle_sequence_id',\n",
    "       'user_pseudo_id',\n",
    "       'user_first_touch_timestamp', 'device', 'geo',\n",
    "       'traffic_source', 'stream_id', 'platform']"
   ]
  },
  {
   "cell_type": "code",
   "execution_count": 117,
   "metadata": {},
   "outputs": [],
   "source": [
    "df = results.copy()"
   ]
  },
  {
   "cell_type": "code",
   "execution_count": 118,
   "metadata": {},
   "outputs": [],
   "source": [
    "df = df[columns_to_use]"
   ]
  },
  {
   "cell_type": "code",
   "execution_count": 119,
   "metadata": {},
   "outputs": [
    {
     "data": {
      "text/html": [
       "<div>\n",
       "<style scoped>\n",
       "    .dataframe tbody tr th:only-of-type {\n",
       "        vertical-align: middle;\n",
       "    }\n",
       "\n",
       "    .dataframe tbody tr th {\n",
       "        vertical-align: top;\n",
       "    }\n",
       "\n",
       "    .dataframe thead th {\n",
       "        text-align: right;\n",
       "    }\n",
       "</style>\n",
       "<table border=\"1\" class=\"dataframe\">\n",
       "  <thead>\n",
       "    <tr style=\"text-align: right;\">\n",
       "      <th></th>\n",
       "      <th>event_date</th>\n",
       "      <th>event_timestamp</th>\n",
       "      <th>event_name</th>\n",
       "      <th>event_params</th>\n",
       "      <th>event_bundle_sequence_id</th>\n",
       "      <th>user_pseudo_id</th>\n",
       "      <th>user_first_touch_timestamp</th>\n",
       "      <th>device</th>\n",
       "      <th>geo</th>\n",
       "      <th>traffic_source</th>\n",
       "      <th>stream_id</th>\n",
       "      <th>platform</th>\n",
       "    </tr>\n",
       "  </thead>\n",
       "  <tbody>\n",
       "    <tr>\n",
       "      <th>0</th>\n",
       "      <td>20230918</td>\n",
       "      <td>1695048275080431</td>\n",
       "      <td>sec20_timer</td>\n",
       "      <td>[{'key': 'page_title', 'value': {'string_value...</td>\n",
       "      <td>777008367</td>\n",
       "      <td>877881965.1695048255</td>\n",
       "      <td>1695048255149401</td>\n",
       "      <td>{'category': 'desktop', 'mobile_brand_name': '...</td>\n",
       "      <td>{'city': 'Fredericia', 'country': 'Denmark', '...</td>\n",
       "      <td>{'name': '(direct)', 'medium': '(none)', 'sour...</td>\n",
       "      <td>6092560544</td>\n",
       "      <td>WEB</td>\n",
       "    </tr>\n",
       "  </tbody>\n",
       "</table>\n",
       "</div>"
      ],
      "text/plain": [
       "  event_date   event_timestamp   event_name  \\\n",
       "0   20230918  1695048275080431  sec20_timer   \n",
       "\n",
       "                                        event_params  \\\n",
       "0  [{'key': 'page_title', 'value': {'string_value...   \n",
       "\n",
       "   event_bundle_sequence_id        user_pseudo_id  user_first_touch_timestamp  \\\n",
       "0                 777008367  877881965.1695048255            1695048255149401   \n",
       "\n",
       "                                              device  \\\n",
       "0  {'category': 'desktop', 'mobile_brand_name': '...   \n",
       "\n",
       "                                                 geo  \\\n",
       "0  {'city': 'Fredericia', 'country': 'Denmark', '...   \n",
       "\n",
       "                                      traffic_source   stream_id platform  \n",
       "0  {'name': '(direct)', 'medium': '(none)', 'sour...  6092560544      WEB  "
      ]
     },
     "execution_count": 119,
     "metadata": {},
     "output_type": "execute_result"
    }
   ],
   "source": [
    "df_1 = df.copy()\n",
    "df_1.head(1)"
   ]
  },
  {
   "cell_type": "code",
   "execution_count": 120,
   "metadata": {},
   "outputs": [],
   "source": [
    "e = \"event_params_\"\n",
    "df[e + \"page_title\"] = None\n",
    "df[e + \"ga_session_id\"] = None\n",
    "df[e + \"page_location\"] = None\n",
    "df[e + \"session_engaged\"] = None\n",
    "df[e + \"engagement_time_msec\"] = None\n",
    "df[e + \"ga_session_number\"] = None\n",
    "df[e + \"engaged_session_event\"] = None\n",
    "\n",
    "for index, row in df.iterrows():\n",
    "    eventparams = row[\"event_params\"]\n",
    "    for param in eventparams:\n",
    "        if param['key'] == 'page_title':\n",
    "            df.at[index, \"event_params_page_title\"] = param['value']['string_value']\n",
    "\n",
    "        elif param['key'] == 'ga_session_id':\n",
    "            df.at[index, \"event_params_ga_session_id\"] = param['value']['int_value']\n",
    "\n",
    "        elif param['key'] == 'page_location':\n",
    "            df.at[index, \"event_params_page_location\"] = param['value']['string_value']\n",
    "\n",
    "        elif param['key'] == 'session_engaged':\n",
    "            df.at[index, \"event_params_session_engaged\"] = param['value']['string_value']\n",
    "\n",
    "        elif param['key'] == 'engagement_time_msec':\n",
    "            df.at[index, \"event_params_engagement_time_msec\"] = param['value']['int_value']\n",
    "\n",
    "        elif param['key'] == 'ga_session_number':\n",
    "            df.at[index, \"event_params_ga_session_number\"] = param['value']['int_value']\n",
    "\n",
    "        elif param['key'] == 'engaged_session_event':\n",
    "            df.at[index, \"event_params_engaged_session_event\"] = param['value']['int_value']\n",
    "\n",
    "            break"
   ]
  },
  {
   "cell_type": "code",
   "execution_count": 121,
   "metadata": {},
   "outputs": [],
   "source": [
    "df.drop(columns=[\"event_params\", \"device\", \"geo\", \"traffic_source\"], inplace=True)"
   ]
  },
  {
   "cell_type": "code",
   "execution_count": 122,
   "metadata": {},
   "outputs": [
    {
     "data": {
      "text/html": [
       "<div>\n",
       "<style scoped>\n",
       "    .dataframe tbody tr th:only-of-type {\n",
       "        vertical-align: middle;\n",
       "    }\n",
       "\n",
       "    .dataframe tbody tr th {\n",
       "        vertical-align: top;\n",
       "    }\n",
       "\n",
       "    .dataframe thead th {\n",
       "        text-align: right;\n",
       "    }\n",
       "</style>\n",
       "<table border=\"1\" class=\"dataframe\">\n",
       "  <thead>\n",
       "    <tr style=\"text-align: right;\">\n",
       "      <th></th>\n",
       "      <th>event_date</th>\n",
       "      <th>event_timestamp</th>\n",
       "      <th>event_name</th>\n",
       "      <th>event_bundle_sequence_id</th>\n",
       "      <th>user_pseudo_id</th>\n",
       "      <th>user_first_touch_timestamp</th>\n",
       "      <th>stream_id</th>\n",
       "      <th>platform</th>\n",
       "      <th>event_params_page_title</th>\n",
       "      <th>event_params_ga_session_id</th>\n",
       "      <th>event_params_page_location</th>\n",
       "      <th>event_params_session_engaged</th>\n",
       "      <th>event_params_engagement_time_msec</th>\n",
       "      <th>event_params_ga_session_number</th>\n",
       "      <th>event_params_engaged_session_event</th>\n",
       "    </tr>\n",
       "  </thead>\n",
       "  <tbody>\n",
       "    <tr>\n",
       "      <th>0</th>\n",
       "      <td>20230918</td>\n",
       "      <td>1695048275080431</td>\n",
       "      <td>sec20_timer</td>\n",
       "      <td>777008367</td>\n",
       "      <td>877881965.1695048255</td>\n",
       "      <td>1695048255149401</td>\n",
       "      <td>6092560544</td>\n",
       "      <td>WEB</td>\n",
       "      <td>Viktor Byskov - Viktor Byskov</td>\n",
       "      <td>1695048254</td>\n",
       "      <td>https://viktorbyskov.dk/</td>\n",
       "      <td>1</td>\n",
       "      <td>1591</td>\n",
       "      <td>1</td>\n",
       "      <td>1</td>\n",
       "    </tr>\n",
       "  </tbody>\n",
       "</table>\n",
       "</div>"
      ],
      "text/plain": [
       "  event_date   event_timestamp   event_name  event_bundle_sequence_id  \\\n",
       "0   20230918  1695048275080431  sec20_timer                 777008367   \n",
       "\n",
       "         user_pseudo_id  user_first_touch_timestamp   stream_id platform  \\\n",
       "0  877881965.1695048255            1695048255149401  6092560544      WEB   \n",
       "\n",
       "         event_params_page_title event_params_ga_session_id  \\\n",
       "0  Viktor Byskov - Viktor Byskov                 1695048254   \n",
       "\n",
       "  event_params_page_location event_params_session_engaged  \\\n",
       "0   https://viktorbyskov.dk/                            1   \n",
       "\n",
       "  event_params_engagement_time_msec event_params_ga_session_number  \\\n",
       "0                              1591                              1   \n",
       "\n",
       "  event_params_engaged_session_event  \n",
       "0                                  1  "
      ]
     },
     "execution_count": 122,
     "metadata": {},
     "output_type": "execute_result"
    }
   ],
   "source": [
    "df.head(1)"
   ]
  },
  {
   "cell_type": "code",
   "execution_count": 123,
   "metadata": {},
   "outputs": [
    {
     "data": {
      "text/plain": [
       "['event_date',\n",
       " 'event_timestamp',\n",
       " 'event_name',\n",
       " 'event_bundle_sequence_id',\n",
       " 'user_pseudo_id',\n",
       " 'user_first_touch_timestamp',\n",
       " 'stream_id',\n",
       " 'platform',\n",
       " 'event_params_page_title',\n",
       " 'event_params_ga_session_id',\n",
       " 'event_params_page_location',\n",
       " 'event_params_session_engaged',\n",
       " 'event_params_engagement_time_msec',\n",
       " 'event_params_ga_session_number',\n",
       " 'event_params_engaged_session_event']"
      ]
     },
     "execution_count": 123,
     "metadata": {},
     "output_type": "execute_result"
    }
   ],
   "source": [
    "listofcolumns = list(df.columns)\n",
    "listofcolumns"
   ]
  },
  {
   "cell_type": "code",
   "execution_count": 124,
   "metadata": {},
   "outputs": [],
   "source": [
    "capitalized_columns = [s.replace('_', ' ').title().replace(' ', '_') for s in listofcolumns]"
   ]
  },
  {
   "cell_type": "code",
   "execution_count": 125,
   "metadata": {},
   "outputs": [
    {
     "data": {
      "text/plain": [
       "['Event_Date',\n",
       " 'Event_Timestamp',\n",
       " 'Event_Name',\n",
       " 'Event_Bundle_Sequence_Id',\n",
       " 'User_Pseudo_Id',\n",
       " 'User_First_Touch_Timestamp',\n",
       " 'Stream_Id',\n",
       " 'Platform',\n",
       " 'Event_Params_Page_Title',\n",
       " 'Event_Params_Ga_Session_Id',\n",
       " 'Event_Params_Page_Location',\n",
       " 'Event_Params_Session_Engaged',\n",
       " 'Event_Params_Engagement_Time_Msec',\n",
       " 'Event_Params_Ga_Session_Number',\n",
       " 'Event_Params_Engaged_Session_Event']"
      ]
     },
     "execution_count": 125,
     "metadata": {},
     "output_type": "execute_result"
    }
   ],
   "source": [
    "capitalized_columns"
   ]
  },
  {
   "cell_type": "code",
   "execution_count": 126,
   "metadata": {},
   "outputs": [],
   "source": [
    "df.to_csv(f\"cleaned_{tablename}.csv\", index=False)"
   ]
  },
  {
   "cell_type": "code",
   "execution_count": 35,
   "metadata": {},
   "outputs": [],
   "source": [
    "dataset_id = \"analytics-399003.analytics_406290682\"\n",
    "tables = client.list_tables(dataset_id)"
   ]
  },
  {
   "cell_type": "code",
   "execution_count": 36,
   "metadata": {},
   "outputs": [
    {
     "name": "stdout",
     "output_type": "stream",
     "text": [
      "Tables contained in 'analytics-399003.analytics_406290682':\n",
      "analytics-399003.analytics_406290682.events_20230914\n",
      "analytics-399003.analytics_406290682.events_20230915\n",
      "analytics-399003.analytics_406290682.events_20230916\n",
      "analytics-399003.analytics_406290682.events_20230917\n",
      "analytics-399003.analytics_406290682.events_20230918\n",
      "analytics-399003.analytics_406290682.pseudonymous_users_20230914\n",
      "analytics-399003.analytics_406290682.pseudonymous_users_20230915\n",
      "analytics-399003.analytics_406290682.pseudonymous_users_20230916\n",
      "analytics-399003.analytics_406290682.pseudonymous_users_20230917\n",
      "analytics-399003.analytics_406290682.pseudonymous_users_20230918\n"
     ]
    }
   ],
   "source": [
    "print(\"Tables contained in '{}':\".format(dataset_id))\n",
    "for table in tables:\n",
    "    print(\"{}.{}.{}\".format(table.project, table.dataset_id, table.table_id))"
   ]
  },
  {
   "cell_type": "code",
   "execution_count": 138,
   "metadata": {},
   "outputs": [
    {
     "name": "stdout",
     "output_type": "stream",
     "text": [
      "20232209\n"
     ]
    }
   ],
   "source": [
    "from datetime import date\n",
    "today = str(date.today().strftime(\"%Y%d%m\"))\n",
    "print(today)"
   ]
  },
  {
   "cell_type": "code",
   "execution_count": null,
   "metadata": {},
   "outputs": [],
   "source": []
  }
 ],
 "metadata": {
  "kernelspec": {
   "display_name": "Python 3",
   "language": "python",
   "name": "python3"
  },
  "language_info": {
   "codemirror_mode": {
    "name": "ipython",
    "version": 3
   },
   "file_extension": ".py",
   "mimetype": "text/x-python",
   "name": "python",
   "nbconvert_exporter": "python",
   "pygments_lexer": "ipython3",
   "version": "3.9.12"
  },
  "orig_nbformat": 4
 },
 "nbformat": 4,
 "nbformat_minor": 2
}
