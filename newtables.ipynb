{
 "cells": [
  {
   "cell_type": "code",
   "execution_count": 8,
   "metadata": {},
   "outputs": [
    {
     "name": "stdout",
     "output_type": "stream",
     "text": [
      "Created table analytics-399003.WebAnalytics.events__20230914\n",
      "Created table analytics-399003.WebAnalytics.events__20230915\n",
      "Created table analytics-399003.WebAnalytics.events__20230916\n",
      "Created table analytics-399003.WebAnalytics.events__20230917\n",
      "Created table analytics-399003.WebAnalytics.events__20230918\n"
     ]
    }
   ],
   "source": [
    "from google.cloud import bigquery\n",
    "from datetime import datetime, timedelta\n",
    "import os\n",
    "\n",
    "# Initialize a BigQuery client\n",
    "os.environ['GOOGLE_APPLICATION_CREDENTIALS'] = \"analytics-399003-e59dddbd35b5.json\"\n",
    "client = bigquery.Client()\n",
    "\n",
    "# Define the project, dataset, and table name prefix\n",
    "project_id = 'analytics-399003'\n",
    "dataset_id = 'WebAnalytics'\n",
    "table_name_prefix = 'events_'\n",
    "\n",
    "# Set the start and end dates\n",
    "start_date = datetime(2023, 9, 14)  # YYYY, MM, DD\n",
    "end_date = datetime(2023, 9, 18)  # YYYY, MM, DD\n",
    "\n",
    "# Define the schema\n",
    "schema = [\n",
    "    bigquery.SchemaField(\"Date\", \"STRING\"),\n",
    "    bigquery.SchemaField(\"Event_Timestamp\", \"STRING\"),\n",
    "    bigquery.SchemaField(\"Event_Name\", \"STRING\"),\n",
    "    bigquery.SchemaField(\"Event_Bundle_Sequence_Id\", \"STRING\"),\n",
    "    bigquery.SchemaField(\"User_Pseudo_Id\", \"STRING\"),\n",
    "    bigquery.SchemaField(\"User_First_Touch_Timestamp\", \"STRING\"),\n",
    "    bigquery.SchemaField(\"Stream_Id\", \"STRING\"),\n",
    "    bigquery.SchemaField(\"Platform\", \"STRING\"),\n",
    "    bigquery.SchemaField(\"Event_Params_Page_Title\", \"STRING\"),\n",
    "    bigquery.SchemaField(\"Event_Params_Ga_Session_Id\", \"STRING\"),\n",
    "    bigquery.SchemaField(\"Event_Params_Page_Location\", \"STRING\"),\n",
    "    bigquery.SchemaField(\"Event_Params_Session_Engaged\", \"STRING\"),\n",
    "    bigquery.SchemaField(\"Event_Params_Engagement_Time_Msec\", \"INTEGER\"),\n",
    "    bigquery.SchemaField(\"Event_Params_Ga_Session_Number\", \"STRING\"),\n",
    "    bigquery.SchemaField(\"Event_Params_Engaged_Session_Event\", \"STRING\")\n",
    "]\n",
    "\n",
    "# Loop through the date range and create tables\n",
    "current_date = start_date\n",
    "while current_date <= end_date:\n",
    "    table_name_suffix = current_date.strftime('%Y%m%d')\n",
    "    table_id = f\"{project_id}.{dataset_id}.{table_name_prefix}_{table_name_suffix}\"\n",
    "    \n",
    "    table = bigquery.Table(table_id, schema=schema)\n",
    "    table = client.create_table(table)  # Make an API request to create the table.\n",
    "    \n",
    "    print(f\"Created table {table_id}\")\n",
    "    current_date += timedelta(days=1)\n"
   ]
  },
  {
   "cell_type": "code",
   "execution_count": null,
   "metadata": {},
   "outputs": [],
   "source": []
  }
 ],
 "metadata": {
  "kernelspec": {
   "display_name": "venv",
   "language": "python",
   "name": "python3"
  },
  "language_info": {
   "codemirror_mode": {
    "name": "ipython",
    "version": 3
   },
   "file_extension": ".py",
   "mimetype": "text/x-python",
   "name": "python",
   "nbconvert_exporter": "python",
   "pygments_lexer": "ipython3",
   "version": "3.9.12"
  },
  "orig_nbformat": 4
 },
 "nbformat": 4,
 "nbformat_minor": 2
}
